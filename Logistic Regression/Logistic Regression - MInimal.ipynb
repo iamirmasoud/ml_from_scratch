{
 "cells": [
  {
   "cell_type": "markdown",
   "metadata": {},
   "source": [
    "# Logistic Regression\n",
    "# $ln(\\frac{p}{1-p}) = \\beta_0 + \\beta_1x$\n",
    "# $p = \\frac{e^{\\beta_0 + \\beta_1x}}{1+e^{\\beta_0 + \\beta_1x}}$"
   ]
  },
  {
   "cell_type": "markdown",
   "metadata": {},
   "source": [
    "# $\\text{Likelihood} = \\prod_{i=1}^{N} p_{i}^{y_i}(1-p_{i})^{1-y_i} $\n",
    "\n",
    "# $LL = log(\\text{Likelihood}) = \\sum_{i=1}^{N} y_ilog(p_i) + (1-y_i)log(1-p_i)$"
   ]
  },
  {
   "cell_type": "markdown",
   "metadata": {},
   "source": [
    "# $\\frac{\\partial LL}{\\partial \\beta_0} = \\sum_{i=1}^{N} (y_i - p_i) $\n",
    "# $\\frac{\\partial LL}{\\partial \\beta_1} = \\sum_{i=1}^{N} (y_i - p_i) x_i $"
   ]
  },
  {
   "cell_type": "markdown",
   "metadata": {},
   "source": [
    "# Goal: Maximize Log Likelihood"
   ]
  },
  {
   "cell_type": "code",
   "execution_count": 1,
   "metadata": {},
   "outputs": [],
   "source": [
    "import numpy as np\n",
    "import pandas as pd\n",
    "import matplotlib.pyplot as plt\n",
    "from sklearn.linear_model import LogisticRegression"
   ]
  },
  {
   "cell_type": "code",
   "execution_count": 2,
   "metadata": {},
   "outputs": [],
   "source": [
    "class_1 = np.random.random(20) * 2 + 1\n",
    "class_2 = np.random.random(20) * 2 - 0.5"
   ]
  },
  {
   "cell_type": "code",
   "execution_count": 3,
   "metadata": {},
   "outputs": [],
   "source": [
    "data = pd.DataFrame()\n",
    "data[\"x\"] = np.concatenate([class_1, class_2])\n",
    "data[\"y\"] = [0] * 20 + [1] * 20\n",
    "data = data.sample(frac=1)"
   ]
  },
  {
   "cell_type": "code",
   "execution_count": 4,
   "metadata": {},
   "outputs": [
    {
     "data": {
      "text/html": [
       "<div>\n",
       "<style scoped>\n",
       "    .dataframe tbody tr th:only-of-type {\n",
       "        vertical-align: middle;\n",
       "    }\n",
       "\n",
       "    .dataframe tbody tr th {\n",
       "        vertical-align: top;\n",
       "    }\n",
       "\n",
       "    .dataframe thead th {\n",
       "        text-align: right;\n",
       "    }\n",
       "</style>\n",
       "<table border=\"1\" class=\"dataframe\">\n",
       "  <thead>\n",
       "    <tr style=\"text-align: right;\">\n",
       "      <th></th>\n",
       "      <th>x</th>\n",
       "      <th>y</th>\n",
       "    </tr>\n",
       "  </thead>\n",
       "  <tbody>\n",
       "    <tr>\n",
       "      <th>15</th>\n",
       "      <td>1.006438</td>\n",
       "      <td>0</td>\n",
       "    </tr>\n",
       "    <tr>\n",
       "      <th>29</th>\n",
       "      <td>-0.169539</td>\n",
       "      <td>1</td>\n",
       "    </tr>\n",
       "    <tr>\n",
       "      <th>28</th>\n",
       "      <td>0.526729</td>\n",
       "      <td>1</td>\n",
       "    </tr>\n",
       "    <tr>\n",
       "      <th>16</th>\n",
       "      <td>2.320624</td>\n",
       "      <td>0</td>\n",
       "    </tr>\n",
       "    <tr>\n",
       "      <th>19</th>\n",
       "      <td>1.071889</td>\n",
       "      <td>0</td>\n",
       "    </tr>\n",
       "  </tbody>\n",
       "</table>\n",
       "</div>"
      ],
      "text/plain": [
       "           x  y\n",
       "15  1.006438  0\n",
       "29 -0.169539  1\n",
       "28  0.526729  1\n",
       "16  2.320624  0\n",
       "19  1.071889  0"
      ]
     },
     "execution_count": 4,
     "metadata": {},
     "output_type": "execute_result"
    }
   ],
   "source": [
    "data.head()"
   ]
  },
  {
   "cell_type": "code",
   "execution_count": 5,
   "metadata": {},
   "outputs": [
    {
     "data": {
      "text/plain": [
       "<matplotlib.collections.PathCollection at 0x7fc468dd6150>"
      ]
     },
     "execution_count": 5,
     "metadata": {},
     "output_type": "execute_result"
    },
    {
     "data": {
      "image/png": "[encoded data removed]",
      "text/plain": [
       "<Figure size 432x288 with 1 Axes>"
      ]
     },
     "metadata": {
      "needs_background": "light"
     },
     "output_type": "display_data"
    }
   ],
   "source": [
    "plt.scatter(data.x, data.y, s=5)"
   ]
  },
  {
   "cell_type": "code",
   "execution_count": 6,
   "metadata": {},
   "outputs": [],
   "source": [
    "def calculate_gradient_log_likelihood(curr_betas, data):\n",
    "    numerator = np.exp(curr_betas[0] + curr_betas[1] * data.x)\n",
    "    p = numerator / (1 + numerator)\n",
    "\n",
    "    partial_0 = np.sum(data.y - p)\n",
    "    partial_1 = np.sum((data.y - p) * data.x)\n",
    "\n",
    "    return np.array([partial_0, partial_1])"
   ]
  },
  {
   "cell_type": "code",
   "execution_count": 9,
   "metadata": {},
   "outputs": [
    {
     "name": "stdout",
     "output_type": "stream",
     "text": [
      "[ 4.75895281 -4.53975383]\n"
     ]
    }
   ],
   "source": [
    "curr_betas = np.array([0.0, 0.0])\n",
    "diff = np.inf\n",
    "eta = 0.1\n",
    "\n",
    "while diff > 0.001:\n",
    "    grad = calculate_gradient_log_likelihood(curr_betas, data)\n",
    "    diff = abs(grad).sum()\n",
    "    curr_betas += eta * grad\n",
    "\n",
    "print(curr_betas)"
   ]
  },
  {
   "cell_type": "code",
   "execution_count": 10,
   "metadata": {},
   "outputs": [
    {
     "data": {
      "text/plain": [
       "[<matplotlib.lines.Line2D at 0x7fc45a1da0d0>]"
      ]
     },
     "execution_count": 10,
     "metadata": {},
     "output_type": "execute_result"
    },
    {
     "data": {
      "image/png": "[encoded data removed]",
      "text/plain": [
       "<Figure size 432x288 with 1 Axes>"
      ]
     },
     "metadata": {
      "needs_background": "light"
     },
     "output_type": "display_data"
    }
   ],
   "source": [
    "plt.scatter(data.x, data.y, s=5)\n",
    "\n",
    "x_vals = np.arange(data.x.min(), data.x.max(), 0.01)\n",
    "p_vals = 1 / (1 + np.exp(-(curr_betas[0] + curr_betas[1] * x_vals)))\n",
    "plt.plot(x_vals, p_vals)"
   ]
  },
  {
   "cell_type": "markdown",
   "metadata": {},
   "source": [
    "# Built-In Solution"
   ]
  },
  {
   "cell_type": "code",
   "execution_count": 11,
   "metadata": {},
   "outputs": [
    {
     "name": "stdout",
     "output_type": "stream",
     "text": [
      "beta_0: 4.762400677195888\n",
      "beta_1: -4.542858551887141\n"
     ]
    }
   ],
   "source": [
    "clf = LogisticRegression(penalty=\"none\")\n",
    "clf.fit(np.array(data.x).reshape(-1, 1), data.y)\n",
    "print(\"beta_0: %s\" % clf.intercept_[0])\n",
    "print(\"beta_1: %s\" % clf.coef_[0][0])"
   ]
  },
  {
   "cell_type": "code",
   "execution_count": 12,
   "metadata": {},
   "outputs": [
    {
     "data": {
      "text/plain": [
       "[<matplotlib.lines.Line2D at 0x7fc45a161d10>]"
      ]
     },
     "execution_count": 12,
     "metadata": {},
     "output_type": "execute_result"
    },
    {
     "data": {
      "image/png": "[encoded data removed]",
      "text/plain": [
       "<Figure size 432x288 with 1 Axes>"
      ]
     },
     "metadata": {
      "needs_background": "light"
     },
     "output_type": "display_data"
    }
   ],
   "source": [
    "plt.scatter(data.x, data.y, s=5)\n",
    "\n",
    "x_vals = np.arange(data.x.min(), data.x.max(), 0.01)\n",
    "p_vals = 1 / (1 + np.exp(-(clf.intercept_[0] + clf.coef_[0][0] * x_vals)))\n",
    "plt.plot(x_vals, p_vals)"
   ]
  },
  {
   "cell_type": "code",
   "execution_count": null,
   "metadata": {},
   "outputs": [],
   "source": []
  }
 ],
 "metadata": {
  "kernelspec": {
   "display_name": "Python 3 (ipykernel)",
   "language": "python",
   "name": "python3"
  },
  "language_info": {
   "codemirror_mode": {
    "name": "ipython",
    "version": 3
   },
   "file_extension": ".py",
   "mimetype": "text/x-python",
   "name": "python",
   "nbconvert_exporter": "python",
   "pygments_lexer": "ipython3",
   "version": "3.7.10"
  }
 },
 "nbformat": 4,
 "nbformat_minor": 4
}
