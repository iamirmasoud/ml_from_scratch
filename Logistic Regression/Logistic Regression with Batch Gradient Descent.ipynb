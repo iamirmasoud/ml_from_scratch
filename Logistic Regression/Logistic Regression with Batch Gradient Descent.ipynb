{
 "cells": [
  {
   "cell_type": "markdown",
   "id": "10622ac0",
   "metadata": {},
   "source": [
    "###  http://www.sefidian.com/2020/11/13/machine-learning-from-scratch-series-logistic-regression/"
   ]
  },
  {
   "cell_type": "code",
   "execution_count": 44,
   "id": "ed141883",
   "metadata": {},
   "outputs": [],
   "source": [
    "from sklearn.datasets import make_classification\n",
    "import numpy as np\n",
    "import matplotlib.pyplot as plt\n",
    "\n",
    "X, y = make_classification(\n",
    "    n_features=2, n_redundant=0, n_informative=2, random_state=1, n_clusters_per_class=1\n",
    ")"
   ]
  },
  {
   "cell_type": "code",
   "execution_count": 45,
   "id": "ea77212b",
   "metadata": {},
   "outputs": [],
   "source": [
    "def sigmoid(z):\n",
    "    return 1.0 / (1 + np.exp(-z))"
   ]
  },
  {
   "cell_type": "code",
   "execution_count": 46,
   "id": "b5a6d727",
   "metadata": {},
   "outputs": [],
   "source": [
    "def loss(y, y_hat):\n",
    "    loss = -np.mean(y * (np.log(y_hat)) - (1 - y) * np.log(1 - y_hat))\n",
    "    return loss"
   ]
  },
  {
   "cell_type": "code",
   "execution_count": 47,
   "id": "7c1215ff",
   "metadata": {},
   "outputs": [],
   "source": [
    "def gradients(X, y, y_hat):\n",
    "\n",
    "    # X --> Input.\n",
    "    # y --> true/target value.\n",
    "    # y_hat --> hypothesis/predictions.\n",
    "    # w --> weights (parameter).\n",
    "    # b --> bias (parameter).\n",
    "\n",
    "    # m-> number of training examples.\n",
    "    m = X.shape[0]\n",
    "\n",
    "    # Gradient of loss w.r.t weights.\n",
    "    dw = (1 / m) * np.dot(X.T, (y_hat - y))\n",
    "\n",
    "    # Gradient of loss w.r.t bias.\n",
    "    db = (1 / m) * np.sum((y_hat - y))\n",
    "\n",
    "    return dw, db"
   ]
  },
  {
   "cell_type": "code",
   "execution_count": 48,
   "id": "3581b784",
   "metadata": {},
   "outputs": [],
   "source": [
    "def plot_decision_boundary(X, w, b):\n",
    "\n",
    "    # X --> Inputs\n",
    "    # w --> weights\n",
    "    # b --> bias\n",
    "\n",
    "    # The Line is y=mx+c\n",
    "    # So, Equate mx+c = w.X + b\n",
    "    # Solving we find m and c\n",
    "    x1 = [min(X[:, 0]), max(X[:, 0])]\n",
    "    m = -w[0] / w[1]\n",
    "    c = -b / w[1]\n",
    "    x2 = m * x1 + c\n",
    "\n",
    "    # Plotting\n",
    "    fig = plt.figure(figsize=(10, 8))\n",
    "    plt.plot(X[:, 0][y == 0], X[:, 1][y == 0], \"g^\")\n",
    "    plt.plot(X[:, 0][y == 1], X[:, 1][y == 1], \"bs\")\n",
    "    plt.xlim([-2, 2])\n",
    "    plt.ylim([0, 2.2])\n",
    "    plt.xlabel(\"feature 1\")\n",
    "    plt.ylabel(\"feature 2\")\n",
    "    plt.title(\"Decision Boundary\")\n",
    "    plt.plot(x1, x2, \"y-\")"
   ]
  },
  {
   "cell_type": "code",
   "execution_count": 49,
   "id": "2db096b5",
   "metadata": {},
   "outputs": [],
   "source": [
    "def normalize(X):\n",
    "\n",
    "    # X --> Input.\n",
    "\n",
    "    # m-> number of training examples\n",
    "    # n-> number of features\n",
    "    m, n = X.shape\n",
    "\n",
    "    # Normalizing all the n features of X.\n",
    "    for i in range(n):\n",
    "        X = (X - X.mean(axis=0)) / X.std(axis=0)\n",
    "\n",
    "    return X"
   ]
  },
  {
   "cell_type": "code",
   "execution_count": 50,
   "id": "869db9bf",
   "metadata": {},
   "outputs": [],
   "source": [
    "def train(X, y, bs, epochs, lr):\n",
    "\n",
    "    # X --> Input.\n",
    "    # y --> true/target value.\n",
    "    # bs --> Batch Size.\n",
    "    # epochs --> Number of iterations.\n",
    "    # lr --> Learning rate.\n",
    "\n",
    "    # m-> number of training examples\n",
    "    # n-> number of features\n",
    "    m, n = X.shape\n",
    "\n",
    "    # Initializing weights and bias to zeros.\n",
    "    w = np.zeros((n, 1))\n",
    "    b = 0\n",
    "\n",
    "    # Reshaping y.\n",
    "    y = y.reshape(m, 1)\n",
    "\n",
    "    # Normalizing the inputs.\n",
    "    x = normalize(X)\n",
    "\n",
    "    # Empty list to store losses.\n",
    "    losses = []\n",
    "\n",
    "    # Training loop.\n",
    "    for epoch in range(epochs):\n",
    "        for i in range((m - 1) // bs + 1):\n",
    "\n",
    "            # Defining batches. SGD.\n",
    "            start_i = i * bs\n",
    "            end_i = start_i + bs\n",
    "            xb = X[start_i:end_i]\n",
    "            yb = y[start_i:end_i]\n",
    "\n",
    "            # Calculating hypothesis/prediction.\n",
    "            y_hat = sigmoid(np.dot(xb, w) + b)\n",
    "\n",
    "            # Getting the gradients of loss w.r.t parameters.\n",
    "            dw, db = gradients(xb, yb, y_hat)\n",
    "\n",
    "            # Updating the parameters.\n",
    "            w -= lr * dw\n",
    "            b -= lr * db\n",
    "\n",
    "        # Calculating loss and appending it in the list.\n",
    "        l = loss(y, sigmoid(np.dot(X, w) + b))\n",
    "        losses.append(l)\n",
    "\n",
    "    # returning weights, bias and losses(List).\n",
    "    return w, b, losses"
   ]
  },
  {
   "cell_type": "code",
   "execution_count": 51,
   "id": "26d2fb18",
   "metadata": {},
   "outputs": [],
   "source": [
    "def predict(X):\n",
    "\n",
    "    # X --> Input.\n",
    "\n",
    "    # Normalizing the inputs.\n",
    "    x = normalize(X)\n",
    "\n",
    "    # Calculating presictions/y_hat.\n",
    "    preds = sigmoid(np.dot(X, w) + b)\n",
    "\n",
    "    # Empty List to store predictions.\n",
    "    pred_class = []\n",
    "    # if y_hat >= 0.5 --> round up to 1\n",
    "    # if y_hat < 0.5 --> round up to 1\n",
    "    pred_class = [1 if i > 0.5 else 0 for i in preds]\n",
    "\n",
    "    return np.array(pred_class)"
   ]
  },
  {
   "cell_type": "code",
   "execution_count": 52,
   "id": "a24c2d8d",
   "metadata": {},
   "outputs": [
    {
     "data": {
      "image/png": "[encoded data removed]",
      "text/plain": [
       "<Figure size 720x576 with 1 Axes>"
      ]
     },
     "metadata": {
      "needs_background": "light"
     },
     "output_type": "display_data"
    }
   ],
   "source": [
    "# Training\n",
    "w, b, l = train(X, y, bs=100, epochs=1000, lr=0.01)\n",
    "# Plotting Decision Boundary\n",
    "plot_decision_boundary(X, w, b)"
   ]
  },
  {
   "cell_type": "code",
   "execution_count": 54,
   "id": "f6a72cb8",
   "metadata": {},
   "outputs": [],
   "source": [
    "def accuracy(y, y_hat):\n",
    "    accuracy = np.sum(y == y_hat) / len(y)\n",
    "    return accuracy"
   ]
  },
  {
   "cell_type": "code",
   "execution_count": 55,
   "id": "6183707e",
   "metadata": {},
   "outputs": [
    {
     "data": {
      "text/plain": [
       "1.0"
      ]
     },
     "execution_count": 55,
     "metadata": {},
     "output_type": "execute_result"
    }
   ],
   "source": [
    "accuracy(y, y_hat=predict(X))"
   ]
  },
  {
   "cell_type": "code",
   "execution_count": 56,
   "id": "4ee5f242",
   "metadata": {},
   "outputs": [],
   "source": [
    "from sklearn.datasets import make_moons\n",
    "\n",
    "X, y = make_moons(n_samples=100, noise=0.24)"
   ]
  },
  {
   "cell_type": "code",
   "execution_count": 57,
   "id": "2aa364ef",
   "metadata": {},
   "outputs": [
    {
     "data": {
      "image/png": "[encoded data removed]",
      "text/plain": [
       "<Figure size 720x576 with 1 Axes>"
      ]
     },
     "metadata": {
      "needs_background": "light"
     },
     "output_type": "display_data"
    }
   ],
   "source": [
    "# Training\n",
    "w, b, l = train(X, y, bs=100, epochs=1000, lr=0.01)\n",
    "# Plotting Decision Boundary\n",
    "plot_decision_boundary(X, w, b)"
   ]
  },
  {
   "cell_type": "code",
   "execution_count": 36,
   "id": "39ec1102",
   "metadata": {},
   "outputs": [
    {
     "data": {
      "text/plain": [
       "0.83"
      ]
     },
     "execution_count": 36,
     "metadata": {},
     "output_type": "execute_result"
    }
   ],
   "source": [
    "accuracy(y, predict(X))"
   ]
  },
  {
   "cell_type": "code",
   "execution_count": null,
   "id": "22c814ba",
   "metadata": {},
   "outputs": [],
   "source": []
  }
 ],
 "metadata": {
  "kernelspec": {
   "display_name": "Python 3 (ipykernel)",
   "language": "python",
   "name": "python3"
  },
  "language_info": {
   "codemirror_mode": {
    "name": "ipython",
    "version": 3
   },
   "file_extension": ".py",
   "mimetype": "text/x-python",
   "name": "python",
   "nbconvert_exporter": "python",
   "pygments_lexer": "ipython3",
   "version": "3.7.10"
  }
 },
 "nbformat": 4,
 "nbformat_minor": 5
}
